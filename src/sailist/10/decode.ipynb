{
 "cells": [
  {
   "cell_type": "code",
   "execution_count": 11,
   "metadata": {},
   "outputs": [
    {
     "data": {
      "text/plain": [
       "'MailTo{sharedocus@126.com}WithYourID'"
      ]
     },
     "execution_count": 11,
     "metadata": {},
     "output_type": "execute_result"
    }
   ],
   "source": [
    "import os\n",
    "\n",
    "with open('Orig.png','rb') as r,open('Modi.png','rb') as r2:\n",
    "    a = r.read()\n",
    "    b = r2.read()\n",
    "\n",
    "res = []\n",
    "for i,(k1,k2) in enumerate(zip(a,b)):\n",
    "    if k1 != k2:\n",
    "        res.append(a[i:i+1].decode())\n",
    "''.join(res)"
   ]
  }
 ],
 "metadata": {
  "kernelspec": {
   "display_name": "Python 3",
   "language": "python",
   "name": "python3"
  },
  "language_info": {
   "codemirror_mode": {
    "name": "ipython",
    "version": 3
   },
   "file_extension": ".py",
   "mimetype": "text/x-python",
   "name": "python",
   "nbconvert_exporter": "python",
   "pygments_lexer": "ipython3",
   "version": "3.7.3"
  }
 },
 "nbformat": 4,
 "nbformat_minor": 2
}
